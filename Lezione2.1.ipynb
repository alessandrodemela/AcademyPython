{
 "cells": [
  {
   "cell_type": "markdown",
   "metadata": {},
   "source": [
    "In questa lezione vedremo come definire funzioni e classi\n"
   ]
  },
  {
   "cell_type": "code",
   "execution_count": 7,
   "metadata": {},
   "outputs": [],
   "source": [
    "#Come definire le funzioni in Python\n",
    "def quadrato(x):\n",
    "    \"\"\"Ritorna il quadrato di x\"\"\" #Questo va nella documentazione della funzione, chiambile con quadrato.__doc__\n",
    "    return x**2"
   ]
  },
  {
   "cell_type": "code",
   "execution_count": 8,
   "metadata": {},
   "outputs": [
    {
     "data": {
      "text/plain": [
       "10000"
      ]
     },
     "execution_count": 8,
     "metadata": {},
     "output_type": "execute_result"
    }
   ],
   "source": [
    "quadrato(100)"
   ]
  },
  {
   "cell_type": "code",
   "execution_count": 9,
   "metadata": {},
   "outputs": [
    {
     "data": {
      "text/plain": [
       "'Ritorna il quadrato di x'"
      ]
     },
     "execution_count": 9,
     "metadata": {},
     "output_type": "execute_result"
    }
   ],
   "source": [
    "quadrato.__doc__"
   ]
  },
  {
   "cell_type": "code",
   "execution_count": 10,
   "metadata": {},
   "outputs": [
    {
     "ename": "SyntaxError",
     "evalue": "invalid syntax (<ipython-input-10-d0b6d0471d2c>, line 2)",
     "output_type": "error",
     "traceback": [
      "\u001b[0;36m  File \u001b[0;32m\"<ipython-input-10-d0b6d0471d2c>\"\u001b[0;36m, line \u001b[0;32m2\u001b[0m\n\u001b[0;31m    quadrato?\u001b[0m\n\u001b[0m            ^\u001b[0m\n\u001b[0;31mSyntaxError\u001b[0m\u001b[0;31m:\u001b[0m invalid syntax\n"
     ]
    }
   ],
   "source": [
    "#magic commands IPython \n",
    "quadrato? "
   ]
  },
  {
   "cell_type": "code",
   "execution_count": 4,
   "metadata": {},
   "outputs": [],
   "source": [
    "quadrato??"
   ]
  },
  {
   "cell_type": "code",
   "execution_count": 3,
   "metadata": {},
   "outputs": [
    {
     "data": {
      "text/plain": [
       "27"
      ]
     },
     "execution_count": 3,
     "metadata": {},
     "output_type": "execute_result"
    }
   ],
   "source": [
    "#più argomenti\n",
    "def potenza(x,n):\n",
    "    return x**n\n",
    "potenza(3,3)"
   ]
  },
  {
   "cell_type": "markdown",
   "metadata": {},
   "source": [
    "Esercizio: <br>\n",
    "definire una funzione che, data una stringa in input, mi restituisce\n",
    "vero se la stringa termina con una vocale falso altrimenti\n",
    "\n"
   ]
  },
  {
   "cell_type": "code",
   "execution_count": 20,
   "metadata": {},
   "outputs": [],
   "source": [
    "def vocalFinal(stringa):\n",
    "    vocali = 'aeiou'\n",
    "    return (stringa[-1] in vocali)"
   ]
  },
  {
   "cell_type": "code",
   "execution_count": 22,
   "metadata": {},
   "outputs": [
    {
     "data": {
      "text/plain": [
       "False"
      ]
     },
     "execution_count": 22,
     "metadata": {},
     "output_type": "execute_result"
    }
   ],
   "source": [
    "vocalFinal('biort')"
   ]
  },
  {
   "cell_type": "code",
   "execution_count": 5,
   "metadata": {},
   "outputs": [
    {
     "data": {
      "text/plain": [
       "True"
      ]
     },
     "execution_count": 5,
     "metadata": {},
     "output_type": "execute_result"
    }
   ],
   "source": [
    "parola('Giorgi')"
   ]
  },
  {
   "cell_type": "code",
   "execution_count": null,
   "metadata": {},
   "outputs": [],
   "source": []
  },
  {
   "cell_type": "code",
   "execution_count": 6,
   "metadata": {},
   "outputs": [
    {
     "data": {
      "text/plain": [
       "<function __main__.<lambda>(x)>"
      ]
     },
     "execution_count": 6,
     "metadata": {},
     "output_type": "execute_result"
    }
   ],
   "source": [
    "lambda x:x**2 #lambda per definire in line una funzione"
   ]
  },
  {
   "cell_type": "code",
   "execution_count": 7,
   "metadata": {},
   "outputs": [
    {
     "data": {
      "text/plain": [
       "100"
      ]
     },
     "execution_count": 7,
     "metadata": {},
     "output_type": "execute_result"
    }
   ],
   "source": [
    "_(10)"
   ]
  },
  {
   "cell_type": "code",
   "execution_count": 8,
   "metadata": {},
   "outputs": [],
   "source": [
    "#Esercizio ridefinire potenza utilizzando lambda\n"
   ]
  },
  {
   "cell_type": "code",
   "execution_count": 26,
   "metadata": {},
   "outputs": [],
   "source": [
    "potenza = lambda x,n : x**n #lambda per definire la potenza"
   ]
  },
  {
   "cell_type": "code",
   "execution_count": 27,
   "metadata": {},
   "outputs": [
    {
     "data": {
      "text/plain": [
       "1208925819614629174706176"
      ]
     },
     "execution_count": 27,
     "metadata": {},
     "output_type": "execute_result"
    }
   ],
   "source": [
    "potenza(4,40)"
   ]
  },
  {
   "cell_type": "code",
   "execution_count": 54,
   "metadata": {},
   "outputs": [],
   "source": [
    "#funzioni che restituiscono funzioni\n",
    "def potenza(n):\n",
    "    def eleva(x):\n",
    "        return x**n\n",
    "    return eleva  #la funzione potenza ci restituisce la funzione eleva(x) con parametro"
   ]
  },
  {
   "cell_type": "code",
   "execution_count": 37,
   "metadata": {},
   "outputs": [
    {
     "name": "stdout",
     "output_type": "stream",
     "text": [
      "elev_3\t potenza\t potenzaLambda\t quadrato\t vocalFinal\t \n"
     ]
    }
   ],
   "source": [
    "%who"
   ]
  },
  {
   "cell_type": "code",
   "execution_count": 38,
   "metadata": {},
   "outputs": [
    {
     "data": {
      "text/plain": [
       "<function __main__.potenza.<locals>.eleva(x)>"
      ]
     },
     "execution_count": 38,
     "metadata": {},
     "output_type": "execute_result"
    }
   ],
   "source": [
    "potenza(3)"
   ]
  },
  {
   "cell_type": "code",
   "execution_count": 39,
   "metadata": {},
   "outputs": [
    {
     "data": {
      "text/plain": [
       "1000"
      ]
     },
     "execution_count": 39,
     "metadata": {},
     "output_type": "execute_result"
    }
   ],
   "source": [
    "elev_3(10)"
   ]
  },
  {
   "cell_type": "code",
   "execution_count": 40,
   "metadata": {},
   "outputs": [],
   "source": [
    "#esercizio 1: ridefinire con lambda dopo il return\n",
    "#esercizio 2 : ridefinire solo con lamba senza usare def"
   ]
  },
  {
   "cell_type": "code",
   "execution_count": 48,
   "metadata": {},
   "outputs": [],
   "source": [
    "#1\n",
    "def potenzaLambda(n):\n",
    "    return lambda x : x**n\n",
    "\n",
    "#2\n",
    "doppiaLambda = lambda n : (lambda x : x**n)"
   ]
  },
  {
   "cell_type": "code",
   "execution_count": 49,
   "metadata": {},
   "outputs": [
    {
     "data": {
      "text/plain": [
       "8"
      ]
     },
     "execution_count": 49,
     "metadata": {},
     "output_type": "execute_result"
    }
   ],
   "source": [
    "doppiaLambda(3)(2)"
   ]
  },
  {
   "cell_type": "code",
   "execution_count": 42,
   "metadata": {},
   "outputs": [
    {
     "data": {
      "text/plain": [
       "<function __main__.potenzaLambda.<locals>.<lambda>(x)>"
      ]
     },
     "execution_count": 42,
     "metadata": {},
     "output_type": "execute_result"
    }
   ],
   "source": [
    "potenzaLambda(3)"
   ]
  },
  {
   "cell_type": "code",
   "execution_count": 55,
   "metadata": {},
   "outputs": [
    {
     "data": {
      "text/plain": [
       "[<function __main__.potenza.<locals>.eleva(x)>,\n",
       " <function __main__.potenza.<locals>.eleva(x)>,\n",
       " <function __main__.potenza.<locals>.eleva(x)>,\n",
       " <function __main__.potenza.<locals>.eleva(x)>,\n",
       " <function __main__.potenza.<locals>.eleva(x)>,\n",
       " <function __main__.potenza.<locals>.eleva(x)>,\n",
       " <function __main__.potenza.<locals>.eleva(x)>,\n",
       " <function __main__.potenza.<locals>.eleva(x)>,\n",
       " <function __main__.potenza.<locals>.eleva(x)>,\n",
       " <function __main__.potenza.<locals>.eleva(x)>]"
      ]
     },
     "execution_count": 55,
     "metadata": {},
     "output_type": "execute_result"
    }
   ],
   "source": [
    "#definiamo un array di funzioni!\n",
    "potenze=[potenza(i) for i in range(10)]\n",
    "\n",
    "potenze"
   ]
  },
  {
   "cell_type": "code",
   "execution_count": 51,
   "metadata": {},
   "outputs": [
    {
     "name": "stdout",
     "output_type": "stream",
     "text": [
      "1\n",
      "3\n",
      "9\n",
      "27\n",
      "81\n",
      "243\n",
      "729\n",
      "2187\n",
      "6561\n",
      "19683\n"
     ]
    }
   ],
   "source": [
    "for p in potenze:print(p(3))"
   ]
  },
  {
   "cell_type": "code",
   "execution_count": 56,
   "metadata": {},
   "outputs": [],
   "source": [
    "#generatori definiti con def\n",
    "def generatore():\n",
    "    for i in range(10):\n",
    "        yield 'prova '*i #non uso return ma yield per fare un generatore"
   ]
  },
  {
   "cell_type": "code",
   "execution_count": 62,
   "metadata": {},
   "outputs": [
    {
     "data": {
      "text/plain": [
       "<generator object generatore at 0x105fb0ac0>"
      ]
     },
     "execution_count": 62,
     "metadata": {},
     "output_type": "execute_result"
    }
   ],
   "source": [
    "generatore()"
   ]
  },
  {
   "cell_type": "code",
   "execution_count": 58,
   "metadata": {},
   "outputs": [
    {
     "data": {
      "text/plain": [
       "['',\n",
       " 'prova ',\n",
       " 'prova prova ',\n",
       " 'prova prova prova ',\n",
       " 'prova prova prova prova ',\n",
       " 'prova prova prova prova prova ',\n",
       " 'prova prova prova prova prova prova ',\n",
       " 'prova prova prova prova prova prova prova ',\n",
       " 'prova prova prova prova prova prova prova prova ',\n",
       " 'prova prova prova prova prova prova prova prova prova ']"
      ]
     },
     "execution_count": 58,
     "metadata": {},
     "output_type": "execute_result"
    }
   ],
   "source": [
    "list(_)"
   ]
  },
  {
   "cell_type": "markdown",
   "metadata": {},
   "source": [
    "##### Esercizio\n",
    "Definire un generatore che fornisce i primi n numeri della successione di Fibonacci\n",
    "\n",
    "S(0) = 1\n",
    "\n",
    "S(1) = 1\n",
    "\n",
    "S(n) = S(n-1) + S(n-2)"
   ]
  },
  {
   "cell_type": "code",
   "execution_count": 75,
   "metadata": {},
   "outputs": [],
   "source": [
    "def primiNumeriFibonacci(N):\n",
    "    l = [0,1]\n",
    "    for i in range (1,N+1):\n",
    "        yield l[i-1]+l[i]\n",
    "        l.append(l[i-1]+l[i])"
   ]
  },
  {
   "cell_type": "code",
   "execution_count": 76,
   "metadata": {
    "scrolled": true
   },
   "outputs": [
    {
     "data": {
      "text/plain": [
       "[1, 2, 3, 5, 8]"
      ]
     },
     "execution_count": 76,
     "metadata": {},
     "output_type": "execute_result"
    }
   ],
   "source": [
    "list(primiNumeriFibonacci(5))"
   ]
  },
  {
   "cell_type": "code",
   "execution_count": 85,
   "metadata": {},
   "outputs": [],
   "source": [
    "#Funzione ricorsive\n",
    "\n",
    "def fact(n):\n",
    "    return 1 if n<2 else n*fact(n-1)"
   ]
  },
  {
   "cell_type": "code",
   "execution_count": 93,
   "metadata": {},
   "outputs": [
    {
     "data": {
      "text/plain": [
       "3628800"
      ]
     },
     "execution_count": 93,
     "metadata": {},
     "output_type": "execute_result"
    }
   ],
   "source": [
    "fact(10)"
   ]
  },
  {
   "cell_type": "code",
   "execution_count": 35,
   "metadata": {},
   "outputs": [],
   "source": [
    "#Esercizio definire con lambda"
   ]
  },
  {
   "cell_type": "code",
   "execution_count": 94,
   "metadata": {},
   "outputs": [],
   "source": [
    "fattoriale = lambda n : 1 if n<2 else n * fattoriale(n-1)"
   ]
  },
  {
   "cell_type": "code",
   "execution_count": 106,
   "metadata": {},
   "outputs": [
    {
     "data": {
      "text/plain": [
       "21"
      ]
     },
     "execution_count": 106,
     "metadata": {},
     "output_type": "execute_result"
    }
   ],
   "source": [
    "#In generale una funzione può chiamare altre funzione\n",
    "def successore(x):\n",
    "    return x+1\n",
    "\n",
    "def somma(x,y):\n",
    "    for i in range(y):\n",
    "        x=successore(x)\n",
    "    return x\n",
    "\n",
    "somma(10,11)"
   ]
  },
  {
   "cell_type": "code",
   "execution_count": 109,
   "metadata": {},
   "outputs": [
    {
     "data": {
      "text/plain": [
       "2"
      ]
     },
     "execution_count": 109,
     "metadata": {},
     "output_type": "execute_result"
    }
   ],
   "source": [
    "#Esercizio definire in maniera analoga predecessore e differenza\n",
    "def predecessore(x):\n",
    "    return x-1\n",
    "\n",
    "def differenza(x,y):\n",
    "    for i in range(y):\n",
    "        x=predecessore(x)\n",
    "    return x\n",
    "\n",
    "differenza(5,3)"
   ]
  },
  {
   "cell_type": "code",
   "execution_count": 113,
   "metadata": {},
   "outputs": [
    {
     "data": {
      "text/plain": [
       "[0, 1, 2]"
      ]
     },
     "execution_count": 113,
     "metadata": {},
     "output_type": "execute_result"
    }
   ],
   "source": [
    "list(range(3))"
   ]
  },
  {
   "cell_type": "code",
   "execution_count": 115,
   "metadata": {},
   "outputs": [
    {
     "name": "stdout",
     "output_type": "stream",
     "text": [
      "30\n"
     ]
    }
   ],
   "source": [
    "#Somma definita ricorsivamente\n",
    "\n",
    "def somma(x,y):\n",
    "    if y==0: return x\n",
    "    else:  return somma(x+1,y-1)\n",
    "\n",
    "print(somma(10,20))"
   ]
  },
  {
   "cell_type": "markdown",
   "metadata": {},
   "source": [
    "##### Esercizi"
   ]
  },
  {
   "cell_type": "code",
   "execution_count": 120,
   "metadata": {},
   "outputs": [],
   "source": [
    "#funtore somma f(x) + g(x)\n",
    "def SUM(f,g):\n",
    "    def z(x):\n",
    "        return f(x) + g(x)\n",
    "    \n",
    "    return z"
   ]
  },
  {
   "cell_type": "code",
   "execution_count": 118,
   "metadata": {},
   "outputs": [
    {
     "data": {
      "text/plain": [
       "-0.9999999999999999"
      ]
     },
     "execution_count": 118,
     "metadata": {},
     "output_type": "execute_result"
    }
   ],
   "source": [
    "from math import sin,cos,pi\n",
    "SUM(sin,cos)(pi)"
   ]
  },
  {
   "cell_type": "code",
   "execution_count": 143,
   "metadata": {},
   "outputs": [],
   "source": [
    "#funtore composizione f(g(x))\n",
    "def COMP(f,g):\n",
    "    def z(x):\n",
    "        return f(g(x))\n",
    "    return z\n",
    "\n",
    "COMPlambda = lambda f,g : lambda x : f(g(x))"
   ]
  },
  {
   "cell_type": "code",
   "execution_count": 144,
   "metadata": {},
   "outputs": [
    {
     "data": {
      "text/plain": [
       "2.0"
      ]
     },
     "execution_count": 144,
     "metadata": {},
     "output_type": "execute_result"
    }
   ],
   "source": [
    "from math import sin,cos,pi,exp,log,e\n",
    "COMP(cos,sin)(pi/2)\n",
    "\n",
    "COMPlambda(exp,log)(2)"
   ]
  },
  {
   "cell_type": "code",
   "execution_count": 44,
   "metadata": {},
   "outputs": [],
   "source": [
    "#map e filter\n",
    "map?"
   ]
  },
  {
   "cell_type": "code",
   "execution_count": 49,
   "metadata": {},
   "outputs": [],
   "source": [
    "filter?"
   ]
  },
  {
   "cell_type": "code",
   "execution_count": 145,
   "metadata": {},
   "outputs": [
    {
     "data": {
      "text/plain": [
       "<map at 0x105ad7d90>"
      ]
     },
     "execution_count": 145,
     "metadata": {},
     "output_type": "execute_result"
    }
   ],
   "source": [
    "map(lambda x:x**.5, range(1,100))"
   ]
  },
  {
   "cell_type": "code",
   "execution_count": 148,
   "metadata": {
    "scrolled": true
   },
   "outputs": [
    {
     "data": {
      "text/plain": [
       "[1.0,\n",
       " 2.0,\n",
       " 2.23606797749979,\n",
       " 1.7320508075688772,\n",
       " 1.4142135623730951,\n",
       " 2.449489742783178,\n",
       " 2.6457513110645907,\n",
       " 2.8284271247461903,\n",
       " 3.0,\n",
       " 3.1622776601683795,\n",
       " 3.3166247903554,\n",
       " 3.4641016151377544,\n",
       " 4.0,\n",
       " 5.0,\n",
       " 6.0,\n",
       " 7.0,\n",
       " 8.0,\n",
       " 9.0,\n",
       " 4.47213595499958,\n",
       " 5.196152422706632,\n",
       " 5.744562646538029,\n",
       " 6.4031242374328485,\n",
       " 6.557438524302,\n",
       " 7.0710678118654755,\n",
       " 7.416198487095663,\n",
       " 7.615773105863909,\n",
       " 7.810249675906654,\n",
       " 8.06225774829855,\n",
       " 8.12403840463596,\n",
       " 8.831760866327848,\n",
       " 8.888194417315589,\n",
       " 8.94427190999916,\n",
       " 9.055385138137417,\n",
       " 9.1104335791443,\n",
       " 9.273618495495704,\n",
       " 9.643650760992955,\n",
       " 4.242640687119285,\n",
       " 4.358898943540674,\n",
       " 6.082762530298219,\n",
       " 6.164414002968976,\n",
       " 7.280109889280518,\n",
       " 7.483314773547883,\n",
       " 3.605551275463989,\n",
       " 5.291502622129181,\n",
       " 5.830951894845301,\n",
       " 6.244997998398398,\n",
       " 6.928203230275509,\n",
       " 7.745966692414834,\n",
       " 7.874007874011811,\n",
       " 8.48528137423857,\n",
       " 8.717797887081348,\n",
       " 8.306623862918075,\n",
       " 9.16515138991168,\n",
       " 9.433981132056603,\n",
       " 9.746794344808963,\n",
       " 5.385164807134504,\n",
       " 5.5677643628300215,\n",
       " 6.324555320336759,\n",
       " 6.782329983125268,\n",
       " 7.211102550927978,\n",
       " 7.681145747868608,\n",
       " 6.48074069840786,\n",
       " 6.6332495807108,\n",
       " 6.708203932499369,\n",
       " 7.54983443527075,\n",
       " 8.602325267042627,\n",
       " 8.426149773176359,\n",
       " 9.219544457292887,\n",
       " 9.327379053088816,\n",
       " 3.7416573867739413,\n",
       " 9.486832980505138,\n",
       " 9.591663046625438,\n",
       " 9.695359714832659,\n",
       " 9.797958971132712,\n",
       " 9.848857801796104,\n",
       " 3.872983346207417,\n",
       " 4.58257569495584,\n",
       " 5.656854249492381,\n",
       " 5.916079783099616,\n",
       " 4.795831523312719,\n",
       " 4.898979485566356,\n",
       " 5.0990195135927845,\n",
       " 6.855654600401044,\n",
       " 7.14142842854285,\n",
       " 7.3484692283495345,\n",
       " 8.18535277187245,\n",
       " 8.366600265340756,\n",
       " 8.774964387392123,\n",
       " 8.54400374531753,\n",
       " 8.246211251235321,\n",
       " 8.660254037844387,\n",
       " 9.38083151964686,\n",
       " 9.539392014169456,\n",
       " 9.899494936611665,\n",
       " 9.9498743710662,\n",
       " 4.123105625617661,\n",
       " 4.69041575982343,\n",
       " 5.477225575051661,\n",
       " 7.937253933193772]"
      ]
     },
     "execution_count": 148,
     "metadata": {},
     "output_type": "execute_result"
    }
   ],
   "source": [
    "list(_)"
   ]
  },
  {
   "cell_type": "code",
   "execution_count": 168,
   "metadata": {},
   "outputs": [
    {
     "data": {
      "text/plain": [
       "<map at 0x105ad2b50>"
      ]
     },
     "execution_count": 168,
     "metadata": {},
     "output_type": "execute_result"
    }
   ],
   "source": [
    "map(lambda x:x[::-1],'una lista di parole da invertire'.split())"
   ]
  },
  {
   "cell_type": "code",
   "execution_count": 167,
   "metadata": {},
   "outputs": [
    {
     "data": {
      "text/plain": [
       "['au', 'asl', 'i', 'eoa', 'a', 'eirvi']"
      ]
     },
     "execution_count": 167,
     "metadata": {},
     "output_type": "execute_result"
    }
   ],
   "source": [
    "list(_)"
   ]
  },
  {
   "cell_type": "code",
   "execution_count": 184,
   "metadata": {},
   "outputs": [],
   "source": [
    "def creaDic(**x):\n",
    "    print(x)\n",
    "    \n",
    "def creatupla(*x):\n",
    "    print(x)"
   ]
  },
  {
   "cell_type": "code",
   "execution_count": 185,
   "metadata": {},
   "outputs": [
    {
     "name": "stdout",
     "output_type": "stream",
     "text": [
      "{'x': 2, 'y': 3}\n"
     ]
    }
   ],
   "source": [
    "creaDic(x=2, y=3)"
   ]
  },
  {
   "cell_type": "code",
   "execution_count": 186,
   "metadata": {},
   "outputs": [
    {
     "name": "stdout",
     "output_type": "stream",
     "text": [
      "{'ggH': 10, 'VBF': 1, 'VH': 0.5, 'ttH': 0.01}\n"
     ]
    }
   ],
   "source": [
    "creaDic(ggH = 10, VBF = 1, VH = 0.5, ttH = 0.01)"
   ]
  },
  {
   "cell_type": "code",
   "execution_count": 187,
   "metadata": {
    "scrolled": true
   },
   "outputs": [
    {
     "name": "stdout",
     "output_type": "stream",
     "text": [
      "(1, 2, 2)\n"
     ]
    }
   ],
   "source": [
    "creatupla(1,2,2)"
   ]
  },
  {
   "cell_type": "code",
   "execution_count": 199,
   "metadata": {},
   "outputs": [
    {
     "data": {
      "text/plain": [
       "<filter at 0x105b0ac40>"
      ]
     },
     "execution_count": 199,
     "metadata": {},
     "output_type": "execute_result"
    }
   ],
   "source": [
    "import random\n",
    "\n",
    "random_numbers=(random.gauss(0,1) for i in range(100))\n",
    "filter(lambda x:x>0,random_numbers)"
   ]
  },
  {
   "cell_type": "code",
   "execution_count": 200,
   "metadata": {
    "scrolled": true
   },
   "outputs": [
    {
     "data": {
      "text/plain": [
       "[1.647923524313703,\n",
       " 0.801196441895582,\n",
       " 0.5761487187895026,\n",
       " 0.06265265158384836,\n",
       " 0.22166994158346123,\n",
       " 0.10465533470902126,\n",
       " 0.5132402278807698,\n",
       " 1.559186924491138,\n",
       " 0.22639445716941034,\n",
       " 0.2991031934294592,\n",
       " 0.1415114638444739,\n",
       " 1.3461984846526283,\n",
       " 2.3521766150174153,\n",
       " 1.0469058085547616,\n",
       " 0.29918784251602853,\n",
       " 1.0422571748700968,\n",
       " 1.70075093824555,\n",
       " 1.105617919859572,\n",
       " 1.2287412722560909,\n",
       " 0.5077353579452559,\n",
       " 0.5535613099016939,\n",
       " 0.5381189172191898,\n",
       " 1.4773881982342958,\n",
       " 0.7246291206343625,\n",
       " 0.002214702090198736,\n",
       " 0.7354678339960884,\n",
       " 0.6844001152802005,\n",
       " 1.783226722529473,\n",
       " 1.1233807739472261,\n",
       " 0.3950359929901369,\n",
       " 0.6572203660276867,\n",
       " 0.5226476631481654,\n",
       " 0.10335260011991793,\n",
       " 0.6576372236264747,\n",
       " 0.8064003071112466,\n",
       " 0.48003474834266885,\n",
       " 0.6236408825578174,\n",
       " 0.9439306113987148,\n",
       " 0.07383593246963056,\n",
       " 0.010361804814644581,\n",
       " 1.380901440269144,\n",
       " 0.4754620344655294,\n",
       " 1.0791409075564768,\n",
       " 1.5376450600735736,\n",
       " 0.35042806747761146,\n",
       " 0.3094053407456725,\n",
       " 1.50610768058836,\n",
       " 0.4809072733474435,\n",
       " 1.4751405093042844,\n",
       " 0.2872633646820584,\n",
       " 1.2195399551970352]"
      ]
     },
     "execution_count": 200,
     "metadata": {},
     "output_type": "execute_result"
    }
   ],
   "source": [
    "list(_)"
   ]
  },
  {
   "cell_type": "code",
   "execution_count": 201,
   "metadata": {},
   "outputs": [
    {
     "data": {
      "text/plain": [
       "0.51"
      ]
     },
     "execution_count": 201,
     "metadata": {},
     "output_type": "execute_result"
    }
   ],
   "source": [
    "len(_)/100 #dovrebbero essere circa la metà, giusto? "
   ]
  },
  {
   "cell_type": "markdown",
   "metadata": {},
   "source": [
    "#### ESERCIZI:<br>\n",
    "<ol>\n",
    "<li> Definire la produttoria ricorsivamente </li>\n",
    "<li> Definire la funzione che restituisce l'n-esimo termini della succ di fibonacci </li>\n",
    "</ol>"
   ]
  },
  {
   "cell_type": "code",
   "execution_count": 249,
   "metadata": {
    "scrolled": false
   },
   "outputs": [
    {
     "data": {
      "text/plain": [
       "[3.1093104613337363, 6.473636772150283, 6.341576073793393, 8.640059823386585]"
      ]
     },
     "execution_count": 249,
     "metadata": {},
     "output_type": "execute_result"
    }
   ],
   "source": [
    "import random, statistics\n",
    "medie = [statistics.mean([random.random()**-1 for i in range(N)]) for N in [10,100,1000,10000]]\n",
    "medie"
   ]
  },
  {
   "cell_type": "code",
   "execution_count": 250,
   "metadata": {},
   "outputs": [],
   "source": [
    "def media(*x):\n",
    "    print(x)\n",
    "    return sum(x)/len(x)"
   ]
  },
  {
   "cell_type": "code",
   "execution_count": 253,
   "metadata": {},
   "outputs": [
    {
     "name": "stdout",
     "output_type": "stream",
     "text": [
      "(1, 2, 3, 4, 5, 6, 7, 8)\n"
     ]
    },
    {
     "data": {
      "text/plain": [
       "4.5"
      ]
     },
     "execution_count": 253,
     "metadata": {},
     "output_type": "execute_result"
    }
   ],
   "source": [
    "media(1,2,3,4,5,6,7,8)"
   ]
  },
  {
   "cell_type": "code",
   "execution_count": 254,
   "metadata": {},
   "outputs": [],
   "source": [
    "def funz(**kwargs):\n",
    "    for key, value in kwargs.items():\n",
    "        print(key, value)"
   ]
  },
  {
   "cell_type": "code",
   "execution_count": 259,
   "metadata": {},
   "outputs": [
    {
     "name": "stdout",
     "output_type": "stream",
     "text": [
      "x 1\n",
      "y 2\n"
     ]
    }
   ],
   "source": [
    "kwargs = funz(x=1,y=2)"
   ]
  },
  {
   "cell_type": "markdown",
   "metadata": {},
   "source": [
    "## CLASSI"
   ]
  },
  {
   "cell_type": "code",
   "execution_count": 248,
   "metadata": {
    "scrolled": true
   },
   "outputs": [
    {
     "name": "stdout",
     "output_type": "stream",
     "text": [
      "In do_local() scope spam = local spam\n",
      "After local assignment: test spam\n",
      "After nonlocal assignment: nonlocal spam\n",
      "After global assignment: nonlocal spam\n",
      "In global scope: global spam\n"
     ]
    }
   ],
   "source": [
    "#Funzione definita per testare i vari name scopes\n",
    "\n",
    "def scope_test():\n",
    "    \n",
    "    def do_local():  #questa funzione crea una variabile (interna) locale e assegna \"local spam\" \n",
    "        spam = \"local spam\"\n",
    "        print('In do_local() scope spam =',spam)\n",
    "\n",
    "    def do_nonlocal(): #questa funzione dichiara spam come non_local e gli assegna \"nonlocal spam\"\n",
    "        nonlocal spam\n",
    "        spam = \"nonlocal spam\"\n",
    "        \n",
    "\n",
    "    def do_global():   #questa funzione dichiara spam come global e gli assegna \"nonlocal spam\"\n",
    "        global spam\n",
    "        spam = \"global spam\"\n",
    "\n",
    "    spam = \"test spam\" #assegno nel scope della funzione scope_test() alla variabile spam =\"test spam\"    \n",
    "    \n",
    "    do_local()\n",
    "    print(\"After local assignment:\", spam) #print di test per vedere cosa è successo alla variabile spam dopo la chiamata di do_local()  \n",
    "    do_nonlocal()\n",
    "    print(\"After nonlocal assignment:\", spam) \n",
    "    do_global()\n",
    "    print(\"After global assignment:\", spam)\n",
    "\n",
    "scope_test()\n",
    "print(\"In global scope:\", spam)"
   ]
  },
  {
   "cell_type": "code",
   "execution_count": 306,
   "metadata": {},
   "outputs": [],
   "source": [
    "class Myclass: #classe in python è un namescope come se fosse un modulo\n",
    "    \"\"\"Una classe vuota\"\"\"\n",
    "    valore = 10\n",
    "    valore1 = 20\n",
    "    \n",
    "    def f(self): #python si aspetta un parametro in chiamata\n",
    "        return self.valore + self.valore1 \n",
    "    \n",
    "    lista = [] #la lista è un oggetto dinamico, verrà aggiornata da tutte le chiamate da tutte gli oggetti\n",
    "    #posso però definire tutti gli attributi dell'oggetto tramite una funzione riservata: __init__\n",
    "    #metodo chiamato in automatico quando istanzio la classe\n",
    "    \n",
    "    def __init__(self):\n",
    "        self.listagiusta = []\n",
    "    \n",
    "    \n",
    "    def inserisci(self, x):\n",
    "        self.lista.append(x)\n",
    "        self.listagiusta.append(x)"
   ]
  },
  {
   "cell_type": "code",
   "execution_count": 307,
   "metadata": {},
   "outputs": [],
   "source": [
    "oggetto1,oggetto2 = Myclass(),Myclass()"
   ]
  },
  {
   "cell_type": "code",
   "execution_count": 308,
   "metadata": {},
   "outputs": [
    {
     "data": {
      "text/plain": [
       "30"
      ]
     },
     "execution_count": 308,
     "metadata": {},
     "output_type": "execute_result"
    }
   ],
   "source": [
    "oggetto1.f()"
   ]
  },
  {
   "cell_type": "code",
   "execution_count": 313,
   "metadata": {},
   "outputs": [],
   "source": [
    "oggetto1.inserisci('pippo')"
   ]
  },
  {
   "cell_type": "code",
   "execution_count": 314,
   "metadata": {},
   "outputs": [
    {
     "data": {
      "text/plain": [
       "[2, 'pippo']"
      ]
     },
     "execution_count": 314,
     "metadata": {},
     "output_type": "execute_result"
    }
   ],
   "source": [
    "oggetto2.lista"
   ]
  },
  {
   "cell_type": "code",
   "execution_count": 315,
   "metadata": {},
   "outputs": [
    {
     "name": "stdout",
     "output_type": "stream",
     "text": [
      "[2, 'pippo'] []\n"
     ]
    }
   ],
   "source": [
    "print(oggetto1.listagiusta, oggetto2.listagiusta)"
   ]
  },
  {
   "cell_type": "markdown",
   "metadata": {},
   "source": [
    "### Classe triangolo"
   ]
  },
  {
   "cell_type": "code",
   "execution_count": 336,
   "metadata": {},
   "outputs": [],
   "source": [
    "class Triangolo:\n",
    "    def __init__(self, a=0, b=0, c=0):\n",
    "        self.a = a\n",
    "        self.b = b\n",
    "        self.c = c\n",
    "    \n",
    "    def perimetro(self):\n",
    "        return self.a + self.b + self.c\n",
    "    \n",
    "    def area(self):\n",
    "        p = self.perimetro()/2\n",
    "        return (p * (p - self.a) * (p - self.b) * (p-self.c))**.5\n",
    "        "
   ]
  },
  {
   "cell_type": "code",
   "execution_count": 337,
   "metadata": {},
   "outputs": [],
   "source": [
    "t = Triangolo(3,4,5)"
   ]
  },
  {
   "cell_type": "code",
   "execution_count": 338,
   "metadata": {},
   "outputs": [
    {
     "data": {
      "text/plain": [
       "6.0"
      ]
     },
     "execution_count": 338,
     "metadata": {},
     "output_type": "execute_result"
    }
   ],
   "source": [
    "t.area()"
   ]
  },
  {
   "cell_type": "markdown",
   "metadata": {},
   "source": [
    "#### Derivata"
   ]
  },
  {
   "cell_type": "code",
   "execution_count": 339,
   "metadata": {},
   "outputs": [],
   "source": [
    "class Equilatero(Triangolo):\n",
    "    def __init__(self,l):\n",
    "        super().__init__(l,l,l)"
   ]
  },
  {
   "cell_type": "code",
   "execution_count": 341,
   "metadata": {},
   "outputs": [],
   "source": [
    "equi = Equilatero(10)"
   ]
  },
  {
   "cell_type": "code",
   "execution_count": 342,
   "metadata": {},
   "outputs": [
    {
     "data": {
      "text/plain": [
       "30"
      ]
     },
     "execution_count": 342,
     "metadata": {},
     "output_type": "execute_result"
    }
   ],
   "source": [
    "equi.perimetro()"
   ]
  },
  {
   "cell_type": "markdown",
   "metadata": {},
   "source": [
    "### Classe Dama"
   ]
  },
  {
   "cell_type": "code",
   "execution_count": null,
   "metadata": {},
   "outputs": [],
   "source": [
    "\n",
    "\n",
    "class Dama:\n",
    "    \"\"\" Questa è la classe delle dame \"\"\"\n",
    "    \n",
    "    #qui si possono mettere attributi ma attenzione che le variabili dinamiche \n",
    "    #verranno condivise da ogni istanza della classe\n",
    "    intero=10\n",
    "    lista=[]\n",
    "    \n",
    "    \n",
    "    def __init__(self,colore=None,x=None,y=None):\n",
    "        \"\"\"funzione inizializzazione oggetto\"\"\"\n",
    "        self.colore=colore  #colore della dama\n",
    "        self.cord_x,self.cord_y=x,y #coordinate sulla scacchiera\n",
    "    \n",
    "    def posizione(self): #attribuisco la posizione alla dama\n",
    "        return (self.cord_x,self.cord_y)\n",
    "        \n",
    "    def muovi(self,mossa): #mossa in ['NE','NO']\n",
    "        if mossa not in {'NE','NO'}:\n",
    "            return 'Mossa non valida'\n",
    "        if mossa=='NE':\n",
    "            self.cord_x-=1\n",
    "            self.cord_y+=1\n",
    "        if mossa=='NO':\n",
    "            self.cord_x+=1\n",
    "            self.cord_y+=1\n"
   ]
  },
  {
   "cell_type": "code",
   "execution_count": 169,
   "metadata": {},
   "outputs": [],
   "source": [
    "#Istanziamo due dame\n",
    "dama1=Dama(colore='nero',x=1,y=2)\n",
    "dama2=Dama(colore='bianco',x=4,y=4)"
   ]
  },
  {
   "cell_type": "code",
   "execution_count": 170,
   "metadata": {},
   "outputs": [
    {
     "data": {
      "text/plain": [
       "10"
      ]
     },
     "execution_count": 170,
     "metadata": {},
     "output_type": "execute_result"
    }
   ],
   "source": [
    "dama1.intero"
   ]
  },
  {
   "cell_type": "code",
   "execution_count": 171,
   "metadata": {},
   "outputs": [],
   "source": [
    "dama1.intero=11"
   ]
  },
  {
   "cell_type": "code",
   "execution_count": 172,
   "metadata": {},
   "outputs": [
    {
     "data": {
      "text/plain": [
       "10"
      ]
     },
     "execution_count": 172,
     "metadata": {},
     "output_type": "execute_result"
    }
   ],
   "source": [
    "dama2.intero"
   ]
  },
  {
   "cell_type": "code",
   "execution_count": 173,
   "metadata": {},
   "outputs": [],
   "source": [
    "#osserviamo il comportamento delle variabili dinamiche create nello scope della classe\n",
    "dama1.lista.append('elemento1')"
   ]
  },
  {
   "cell_type": "code",
   "execution_count": 174,
   "metadata": {},
   "outputs": [
    {
     "data": {
      "text/plain": [
       "['elemento1']"
      ]
     },
     "execution_count": 174,
     "metadata": {},
     "output_type": "execute_result"
    }
   ],
   "source": [
    "dama1.lista"
   ]
  },
  {
   "cell_type": "code",
   "execution_count": 175,
   "metadata": {},
   "outputs": [
    {
     "data": {
      "text/plain": [
       "['elemento1']"
      ]
     },
     "execution_count": 175,
     "metadata": {},
     "output_type": "execute_result"
    }
   ],
   "source": [
    "dama2.lista"
   ]
  },
  {
   "cell_type": "code",
   "execution_count": 176,
   "metadata": {},
   "outputs": [],
   "source": [
    "dama2.lista.append('elemento2')"
   ]
  },
  {
   "cell_type": "code",
   "execution_count": 177,
   "metadata": {},
   "outputs": [
    {
     "data": {
      "text/plain": [
       "['elemento1', 'elemento2']"
      ]
     },
     "execution_count": 177,
     "metadata": {},
     "output_type": "execute_result"
    }
   ],
   "source": [
    "dama1.lista"
   ]
  },
  {
   "cell_type": "code",
   "execution_count": 178,
   "metadata": {},
   "outputs": [],
   "source": [
    "dama1.stringa='un nuovo attributo' #possiamo anche aggiungere nuovi attributi senza averli dichiarati nella classe\n",
    "#questi attributi andranno però a modificare il singolo oggetto."
   ]
  },
  {
   "cell_type": "code",
   "execution_count": 179,
   "metadata": {},
   "outputs": [
    {
     "data": {
      "text/plain": [
       "'un nuovo attributo'"
      ]
     },
     "execution_count": 179,
     "metadata": {},
     "output_type": "execute_result"
    }
   ],
   "source": [
    "dama1.stringa"
   ]
  },
  {
   "cell_type": "code",
   "execution_count": 180,
   "metadata": {
    "scrolled": true
   },
   "outputs": [
    {
     "ename": "AttributeError",
     "evalue": "'Dama' object has no attribute 'stringa'",
     "output_type": "error",
     "traceback": [
      "\u001b[0;31m---------------------------------------------------------------------------\u001b[0m",
      "\u001b[0;31mAttributeError\u001b[0m                            Traceback (most recent call last)",
      "\u001b[0;32m<ipython-input-180-3ff7c75fd6a6>\u001b[0m in \u001b[0;36m<module>\u001b[0;34m\u001b[0m\n\u001b[0;32m----> 1\u001b[0;31m \u001b[0mdama2\u001b[0m\u001b[0;34m.\u001b[0m\u001b[0mstringa\u001b[0m\u001b[0;34m\u001b[0m\u001b[0;34m\u001b[0m\u001b[0m\n\u001b[0m",
      "\u001b[0;31mAttributeError\u001b[0m: 'Dama' object has no attribute 'stringa'"
     ]
    }
   ],
   "source": [
    "dama2.stringa"
   ]
  },
  {
   "cell_type": "code",
   "execution_count": 181,
   "metadata": {},
   "outputs": [
    {
     "data": {
      "text/plain": [
       "(1, 2)"
      ]
     },
     "execution_count": 181,
     "metadata": {},
     "output_type": "execute_result"
    }
   ],
   "source": [
    "dama1.posizione()"
   ]
  },
  {
   "cell_type": "code",
   "execution_count": 182,
   "metadata": {},
   "outputs": [
    {
     "data": {
      "text/plain": [
       "(2, 3)"
      ]
     },
     "execution_count": 182,
     "metadata": {},
     "output_type": "execute_result"
    }
   ],
   "source": [
    "dama1.muovi('NO')\n",
    "dama1.posizione()"
   ]
  },
  {
   "cell_type": "code",
   "execution_count": 183,
   "metadata": {},
   "outputs": [],
   "source": [
    "#Quindi possiamo usare questi attributi come canali di comunicazione tra oggetti della stessa classe.\n",
    "#Ma è una pratica poco consigliabile\n",
    "#Meglio definire gli attributi sempre attraverso i metodi della classe, quindi attributi dell'oggetto\n",
    "#E definire una classe canale o dei metodi di comunicazione che gestiscano la comunicazione tra oggetti\n",
    "\n",
    "class Lista:\n",
    "    def __init__(self):\n",
    "        self.lista=[]\n",
    "        \n",
    "    def aggiungi(self,x):\n",
    "        self.lista.append(x)\n",
    "        \n",
    "    def invia(self,oggetto):\n",
    "        oggetto.lista.append(self.lista.pop())\n"
   ]
  },
  {
   "cell_type": "code",
   "execution_count": 184,
   "metadata": {},
   "outputs": [],
   "source": [
    "lista1,lista2=Lista(),Lista()"
   ]
  },
  {
   "cell_type": "code",
   "execution_count": 185,
   "metadata": {},
   "outputs": [],
   "source": [
    "lista1.aggiungi(1)\n",
    "lista2.aggiungi(2)"
   ]
  },
  {
   "cell_type": "code",
   "execution_count": 186,
   "metadata": {},
   "outputs": [
    {
     "data": {
      "text/plain": [
       "([1], [2])"
      ]
     },
     "execution_count": 186,
     "metadata": {},
     "output_type": "execute_result"
    }
   ],
   "source": [
    "lista1.lista,lista2.lista"
   ]
  },
  {
   "cell_type": "code",
   "execution_count": 187,
   "metadata": {},
   "outputs": [],
   "source": [
    "lista2.invia(lista1)"
   ]
  },
  {
   "cell_type": "code",
   "execution_count": 188,
   "metadata": {},
   "outputs": [
    {
     "data": {
      "text/plain": [
       "([1, 2], [])"
      ]
     },
     "execution_count": 188,
     "metadata": {},
     "output_type": "execute_result"
    }
   ],
   "source": [
    "lista1.lista,lista2.lista"
   ]
  },
  {
   "cell_type": "code",
   "execution_count": 189,
   "metadata": {},
   "outputs": [],
   "source": [
    "#Classe damone...ereditarietà\n",
    "class Damone(Dama):\n",
    "       def muovi(self,mossa): #mossa in ['NE','NO','SE','SO']\n",
    "        if mossa not in {'NE','NO','SE','SO'}:\n",
    "            return 'Mossa non valida'\n",
    "        if mossa=='NE':\n",
    "            self.cord_x-=1\n",
    "            self.cord_y+=1\n",
    "        if mossa=='NO':\n",
    "            self.cord_x+=1\n",
    "            self.cord_y+=1\n",
    "        if mossa=='SE':\n",
    "            self.cord_x-=1\n",
    "            self.cord_y-=1\n",
    "        if mossa=='SO':\n",
    "            self.cord_x+=1\n",
    "            self.cord_y-=1\n",
    "            "
   ]
  },
  {
   "cell_type": "code",
   "execution_count": 190,
   "metadata": {},
   "outputs": [],
   "source": [
    "damone1=Damone(colore='nero',x=1,y=2)"
   ]
  },
  {
   "cell_type": "code",
   "execution_count": 191,
   "metadata": {},
   "outputs": [
    {
     "data": {
      "text/plain": [
       "(0, 1)"
      ]
     },
     "execution_count": 191,
     "metadata": {},
     "output_type": "execute_result"
    }
   ],
   "source": [
    "damone1.muovi('SE')\n",
    "damone1.posizione()"
   ]
  },
  {
   "cell_type": "code",
   "execution_count": 192,
   "metadata": {},
   "outputs": [
    {
     "data": {
      "text/plain": [
       "['elemento1', 'elemento2']"
      ]
     },
     "execution_count": 192,
     "metadata": {},
     "output_type": "execute_result"
    }
   ],
   "source": [
    "damone1.lista"
   ]
  },
  {
   "cell_type": "markdown",
   "metadata": {},
   "source": [
    "### ESERCIZI RIEPILOGO\n",
    "\n",
    "1) Scrivere una funzione che filtra tutte le parole ripetute adiacenti in un testo (passato come stringa)\n",
    "\n",
    "2) Scrivere una funzione che filtra tutti caratteri ripetuti in una stringa S oltre un certo numero N di occorrenze successive\n",
    "\n",
    "3) Implementare una classe che :\n",
    "    -Definisce una matrice sudoku (9x9)\n",
    "    -Inserisce i valori per riga, colonna, quadrante\n",
    "    -Stampa la matrice\n",
    "    -Controlla se la soluzione è valida\n",
    "    -Fornisce i numeri mancanti per riga, colonna, quadrante\n",
    "    \n",
    "4) Implementare una classe Tris che:\n",
    "    - Definisce una matrice 3 per 3 \n",
    "    - Definisce due giocatori X e O\n",
    "    - Definisce la possibilità per i giocatori di mettere le loro pedine sulla matrice\n",
    "    - Definisce una partita, ovvero una sequenza di mosse alternate tra i due giocatori\n",
    "    - Definisce le mosse valide\n",
    "    - Definisce la vittoria di uno dei due giocatori"
   ]
  },
  {
   "cell_type": "code",
   "execution_count": 362,
   "metadata": {},
   "outputs": [],
   "source": [
    "import re\n",
    "p = re.compile(\"Canto \"*2)\n",
    "p.findall('Questo è il Canto Canto dell\\'estate')\n",
    "\n",
    "\n",
    "import re\n",
    "def doppie(testo):\n",
    "    doppioni = []\n",
    "    for p in testo.split():\n",
    "        print(p)\n",
    "        q = re.compile((p+ ' ')*2)\n",
    "        q.findall(testo)\n",
    "    return doppioni\n",
    "    "
   ]
  },
  {
   "cell_type": "code",
   "execution_count": 363,
   "metadata": {},
   "outputs": [
    {
     "name": "stdout",
     "output_type": "stream",
     "text": [
      "La\n",
      "La\n",
      "Land\n",
      "è\n",
      "un\n",
      "bel\n",
      "bel\n",
      "film\n"
     ]
    },
    {
     "data": {
      "text/plain": [
       "[]"
      ]
     },
     "execution_count": 363,
     "metadata": {},
     "output_type": "execute_result"
    }
   ],
   "source": [
    "doppie('La La Land è un bel bel film')"
   ]
  },
  {
   "cell_type": "markdown",
   "metadata": {},
   "source": [
    "#### Esercizio 3"
   ]
  },
  {
   "cell_type": "code",
   "execution_count": 478,
   "metadata": {},
   "outputs": [
    {
     "ename": "SyntaxError",
     "evalue": "unexpected EOF while parsing (<ipython-input-478-41683e06b881>, line 46)",
     "output_type": "error",
     "traceback": [
      "\u001b[0;36m  File \u001b[0;32m\"<ipython-input-478-41683e06b881>\"\u001b[0;36m, line \u001b[0;32m46\u001b[0m\n\u001b[0;31m    #            print(row)\u001b[0m\n\u001b[0m                           ^\u001b[0m\n\u001b[0;31mSyntaxError\u001b[0m\u001b[0;31m:\u001b[0m unexpected EOF while parsing\n"
     ]
    }
   ],
   "source": [
    "class Sudoku():\n",
    "    def __init__(self):\n",
    "        self.board = [[None]*9]*9\n",
    "        \n",
    "    def clearAll(self):\n",
    "        self.__init__()\n",
    "        \n",
    "    def setValue(self, row, rowIndex, val):\n",
    "        self.board[rowIndex][row] = val\n",
    "        \n",
    "    def checkValue(self, val):\n",
    "        if val not in range(1,10): \n",
    "            print('Give me another value')\n",
    "            return None\n",
    "        else:\n",
    "            pass\n",
    "        \n",
    "    def insertRow(self, val, rowIndex):\n",
    "        # controllo che il valore sia corretto\n",
    "        self.checkValue(val)\n",
    "        \n",
    "        # controllo che non sia presente nella riga, se c'è allora bona, altrimenti dammi una lista di numeri\n",
    "        # di colonne in cui si può trovare\n",
    "        if val in self.board(rowIndex):\n",
    "            print('Value already in the line')\n",
    "            return None\n",
    "        else:\n",
    "            return [col for col in self.board(rowIndex) if self.board(rowIndex)== None]\n",
    "        \n",
    "        \n",
    "        #metodo statico\n",
    "        @staticmethod\n",
    "        \n",
    "#    def insertCol(self, colValue, colIndex):\n",
    "#        if colValue not in self.board[colIndex]:\n",
    "#            self.board[colIndex] = row\n",
    "#\n",
    "#    def insertFace(self, face, numFace):\n",
    "#        pass\n",
    "#    \n",
    "#    def checkList(self,row):\n",
    "#        return len(self.board(row)) and set(row) == set(range(1,10))\n",
    "#  \n",
    "#    def print(self):\n",
    "#        for row in self.board:\n",
    "#            print(row)"
   ]
  },
  {
   "cell_type": "code",
   "execution_count": 474,
   "metadata": {},
   "outputs": [],
   "source": [
    "sudoku = Sudoku()\n",
    "sudoku.clearAll()"
   ]
  },
  {
   "cell_type": "code",
   "execution_count": 476,
   "metadata": {},
   "outputs": [],
   "source": [
    "sudoku.setValue(2,4,9)"
   ]
  },
  {
   "cell_type": "code",
   "execution_count": 477,
   "metadata": {},
   "outputs": [
    {
     "data": {
      "text/plain": [
       "[[None, None, 9, None, None, None, None, None, None],\n",
       " [None, None, 9, None, None, None, None, None, None],\n",
       " [None, None, 9, None, None, None, None, None, None],\n",
       " [None, None, 9, None, None, None, None, None, None],\n",
       " [None, None, 9, None, None, None, None, None, None],\n",
       " [None, None, 9, None, None, None, None, None, None],\n",
       " [None, None, 9, None, None, None, None, None, None],\n",
       " [None, None, 9, None, None, None, None, None, None],\n",
       " [None, None, 9, None, None, None, None, None, None]]"
      ]
     },
     "execution_count": 477,
     "metadata": {},
     "output_type": "execute_result"
    }
   ],
   "source": [
    "sudoku.board"
   ]
  },
  {
   "cell_type": "code",
   "execution_count": null,
   "metadata": {},
   "outputs": [],
   "source": []
  }
 ],
 "metadata": {
  "kernelspec": {
   "display_name": "Python 3",
   "language": "python",
   "name": "python3"
  },
  "language_info": {
   "codemirror_mode": {
    "name": "ipython",
    "version": 3
   },
   "file_extension": ".py",
   "mimetype": "text/x-python",
   "name": "python",
   "nbconvert_exporter": "python",
   "pygments_lexer": "ipython3",
   "version": "3.8.5"
  }
 },
 "nbformat": 4,
 "nbformat_minor": 4
}
